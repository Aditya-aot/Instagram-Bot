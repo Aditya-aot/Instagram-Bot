{
 "cells": [
  {
   "cell_type": "code",
   "execution_count": 1,
   "id": "618c489c",
   "metadata": {},
   "outputs": [
    {
     "name": "stdout",
     "output_type": "stream",
     "text": [
      "[{\"fact\": \"Chocolate was used as medicine during the 18th century. It was believed that chocolate could cure a stomach ache\"}]\n",
      "\n",
      "Chocolate was used as medicine during the 18th century. It was believed that chocolate could cure a stomach ache\n"
     ]
    }
   ],
   "source": [
    "# Facts by API-Ninjas\n",
    "\n",
    "import requests\n",
    "\n",
    "url = \"https://facts-by-api-ninjas.p.rapidapi.com/v1/facts\"\n",
    "\n",
    "headers = {\n",
    "    \"X-RapidAPI-Host\": \"facts-by-api-ninjas.p.rapidapi.com\",\n",
    "    \"X-RapidAPI-Key\": \"fc10ca2471msh1436e5004570dd2p152fdfjsn953b9a54ea03\"\n",
    "}\n",
    "\n",
    "response = requests.request(\"GET\", url, headers=headers)\n",
    "\n",
    "fact=response.text\n",
    "print(fact)\n",
    "print()\n",
    "print(fact[11:-3])"
   ]
  },
  {
   "cell_type": "code",
   "execution_count": null,
   "id": "613ebd1e",
   "metadata": {},
   "outputs": [],
   "source": []
  },
  {
   "cell_type": "code",
   "execution_count": 2,
   "id": "ecf8264c",
   "metadata": {},
   "outputs": [
    {
     "name": "stdout",
     "output_type": "stream",
     "text": [
      "The smallest bone in the human body is the stirrup\n",
      "bone, which is located in the ear\n"
     ]
    }
   ],
   "source": [
    "value='The smallest bone in the human body is the stirrup bone, which is located in the ear'\n",
    "\n",
    "import textwrap\n",
    "  \n",
    "# value = \"\"\"This function wraps the input paragraph such that each line\n",
    "# in the paragraph is at most width characters long. The wrap method\n",
    "# returns a list of output lines. The returned list\n",
    "# is empty if the wrapped\n",
    "# output has no content.\"\"\"\n",
    "  \n",
    "# Wrap this text.\n",
    "wrapper = textwrap.TextWrapper(width=50)\n",
    "  \n",
    "word_list = wrapper.wrap(text=value)\n",
    "\n",
    "x = \"\\n\".join(word_list)\n",
    "\n",
    "print(x)"
   ]
  },
  {
   "cell_type": "code",
   "execution_count": null,
   "id": "f512334e",
   "metadata": {},
   "outputs": [],
   "source": []
  },
  {
   "cell_type": "code",
   "execution_count": 3,
   "id": "71df1edb",
   "metadata": {},
   "outputs": [
    {
     "name": "stdout",
     "output_type": "stream",
     "text": [
      "Printed immediately.\n",
      "Printed after 2.4 seconds.\n"
     ]
    }
   ],
   "source": [
    "\n",
    "import time\n",
    "\n",
    "print(\"Printed immediately.\")\n",
    "time.sleep(2.4)\n",
    "print(\"Printed after 2.4 seconds.\")"
   ]
  },
  {
   "cell_type": "code",
   "execution_count": 11,
   "id": "847c5c81",
   "metadata": {},
   "outputs": [
    {
     "name": "stdout",
     "output_type": "stream",
     "text": [
      "aditya 1\n",
      "aditya 1\n",
      "3\r"
     ]
    },
    {
     "ename": "KeyboardInterrupt",
     "evalue": "",
     "output_type": "error",
     "traceback": [
      "\u001b[1;31m---------------------------------------------------------------------------\u001b[0m",
      "\u001b[1;31mKeyboardInterrupt\u001b[0m                         Traceback (most recent call last)",
      "\u001b[1;32m<ipython-input-11-ae22930f758a>\u001b[0m in \u001b[0;36m<module>\u001b[1;34m\u001b[0m\n\u001b[0;32m      6\u001b[0m         \u001b[0mprint\u001b[0m\u001b[1;33m(\u001b[0m\u001b[1;34mf\"{i}\"\u001b[0m\u001b[1;33m,\u001b[0m \u001b[0mend\u001b[0m\u001b[1;33m=\u001b[0m\u001b[1;34m\"\\r\"\u001b[0m\u001b[1;33m,\u001b[0m \u001b[0mflush\u001b[0m\u001b[1;33m=\u001b[0m\u001b[1;32mTrue\u001b[0m\u001b[1;33m)\u001b[0m\u001b[1;33m\u001b[0m\u001b[1;33m\u001b[0m\u001b[0m\n\u001b[0;32m      7\u001b[0m     \u001b[1;31m#     print(i)\u001b[0m\u001b[1;33m\u001b[0m\u001b[1;33m\u001b[0m\u001b[1;33m\u001b[0m\u001b[0m\n\u001b[1;32m----> 8\u001b[1;33m         \u001b[0mtime\u001b[0m\u001b[1;33m.\u001b[0m\u001b[0msleep\u001b[0m\u001b[1;33m(\u001b[0m\u001b[1;36m1\u001b[0m\u001b[1;33m)\u001b[0m\u001b[1;33m\u001b[0m\u001b[1;33m\u001b[0m\u001b[0m\n\u001b[0m\u001b[0;32m      9\u001b[0m \u001b[1;33m\u001b[0m\u001b[0m\n\u001b[0;32m     10\u001b[0m \u001b[1;33m\u001b[0m\u001b[0m\n",
      "\u001b[1;31mKeyboardInterrupt\u001b[0m: "
     ]
    }
   ],
   "source": [
    "a= 5\n",
    "import time\n",
    "\n",
    "while True : \n",
    "    for i in range(5,0,-1):\n",
    "        print(f\"{i}\", end=\"\\r\", flush=True)\n",
    "    #     print(i)\n",
    "        time.sleep(1)\n",
    "\n",
    "\n",
    "    print('aditya',i)\n",
    "#     time.sleep(1)\n",
    "    \n",
    "#     43200"
   ]
  },
  {
   "cell_type": "code",
   "execution_count": null,
   "id": "f1f02090",
   "metadata": {},
   "outputs": [],
   "source": [
    "a=1\n",
    "print('a'+str(1))"
   ]
  },
  {
   "cell_type": "code",
   "execution_count": null,
   "id": "228007fe",
   "metadata": {},
   "outputs": [],
   "source": []
  },
  {
   "cell_type": "code",
   "execution_count": null,
   "id": "ff2f5b33",
   "metadata": {},
   "outputs": [],
   "source": []
  },
  {
   "cell_type": "code",
   "execution_count": null,
   "id": "843c04dc",
   "metadata": {},
   "outputs": [],
   "source": []
  },
  {
   "cell_type": "code",
   "execution_count": null,
   "id": "15f83302",
   "metadata": {},
   "outputs": [],
   "source": []
  }
 ],
 "metadata": {
  "kernelspec": {
   "display_name": "Python 3",
   "language": "python",
   "name": "python3"
  },
  "language_info": {
   "codemirror_mode": {
    "name": "ipython",
    "version": 3
   },
   "file_extension": ".py",
   "mimetype": "text/x-python",
   "name": "python",
   "nbconvert_exporter": "python",
   "pygments_lexer": "ipython3",
   "version": "3.8.8"
  }
 },
 "nbformat": 4,
 "nbformat_minor": 5
}
